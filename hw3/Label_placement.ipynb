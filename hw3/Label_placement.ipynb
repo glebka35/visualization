{
  "nbformat": 4,
  "nbformat_minor": 0,
  "metadata": {
    "colab": {
      "name": "Label placement.ipynb",
      "provenance": [],
      "collapsed_sections": [
        "3jkicl-Okye9"
      ]
    },
    "kernelspec": {
      "name": "python3",
      "display_name": "Python 3"
    },
    "language_info": {
      "name": "python"
    }
  },
  "cells": [
    {
      "cell_type": "markdown",
      "metadata": {
        "id": "OujbqT7Vk4Tt"
      },
      "source": [
        "# Задание №3 - Label placement. Выполнил студент **Уваркин Глеб** М05-012е группа.\n"
      ]
    },
    {
      "cell_type": "markdown",
      "metadata": {
        "id": "3jkicl-Okye9"
      },
      "source": [
        "# Тестовые данные\n"
      ]
    },
    {
      "cell_type": "code",
      "metadata": {
        "id": "gn0nZMowlXf7"
      },
      "source": [
        "bricks = \"\"\"45,15\t20,10\t0,0 20,0 0,10 20,10\n",
        "50,15\t20,10\t0,0 20,0 0,10 20,10\n",
        "25,30\t20,10\t0,0 20,0 0,10 20,10\n",
        "30,20\t20,10\t0,0 20,0 0,10 20,10\n",
        "55,20\t20,10\t0,0 20,0 0,10 20,10\n",
        "40,35\t20,10\t0,0 20,0 0,10 20,10\n",
        "\"\"\""
      ],
      "execution_count": 1,
      "outputs": []
    },
    {
      "cell_type": "code",
      "metadata": {
        "id": "e90rPq4HlaqO"
      },
      "source": [
        "frame = \"\"\"25,20\t10,10\t0,0 10,0 0,10 10,10\n",
        "25,40\t10,30\t0,0 10,0 0,15 10,15 0,30 10,30\n",
        "25,60\t10,10\t0,0 10,0 0,10 10,10\n",
        "40,25\t20,10\t0,0 10,0 20,0 0,10 10,10 20,10\n",
        "40,40\t20,20\t0,0 10,0 20,0 0,10 10,10 20,10 0,20 10,20 20,20\n",
        "40,55\t20,10\t0,0 10,0 20,0 0,10 10,10 20,10\n",
        "55,35\t10,20\t0,0 10,0 0,10 10,10 0,20 10,20\n",
        "55,40\t10,20\t0,0 10,0 0,10 10,10 0,20 10,20\"\"\""
      ],
      "execution_count": 2,
      "outputs": []
    },
    {
      "cell_type": "code",
      "metadata": {
        "id": "xu67sBS2li_U"
      },
      "source": [
        "hard1 = \"\"\"111,152\t33,47\t0,0 33,0 0,47 33,47\n",
        "55,142\t35,25\t0,0 35,0 0,25 35,25\n",
        "73,62\t40,21\t0,0 40,0 0,7 40,7 0,14 40,14 0,21 40,21\n",
        "54,193\t10,48\t0,0 10,0 0,48 10,48\n",
        "191,7\t18,47\t0,0 6,0 12,0 18,0 0,47 6,47 12,47 18,47\n",
        "187,135\t29,23\t0,0 29,0 0,23 29,23\n",
        "174,50\t45,22\t0,0 15,0 30,0 45,0 0,22 15,22 30,22 45,22\n",
        "33,31\t34,29\t0,0 34,0 0,29 34,29\n",
        "193,174\t14,14\t0,0 14,0 0,14 14,14\n",
        "155,140\t25,20\t0,0 25,0 0,20 25,20\n",
        "136,92\t20,31\t0,0 20,0 0,31 20,31\n",
        "71,187\t25,29\t0,0 25,0 0,29 25,29\n",
        "104,38\t53,11\t0,0 53,0 0,11 53,11\n",
        "83,41\t14,24\t0,0 14,0 0,24 14,24\n",
        "29,158\t16,41\t0,0 16,0 0,41 16,41\n",
        "7,107\t31,21\t0,0 31,0 0,21 31,21\n",
        "128,5\t15,10\t0,0 15,0 0,10 15,10\n",
        "53,111\t12,20\t0,0 12,0 0,20 12,20\n",
        "22,5\t24,10\t0,0 12,0 24,0 0,10 12,10 24,10\n",
        "167,5\t11,42\t0,0 11,0 0,42 11,42\n",
        "114,125\t10,23\t0,0 10,0 0,23 10,23\n",
        "143,145\t11,45\t0,0 11,0 0,45 11,45\n",
        "57,100\t37,18\t0,0 37,0 0,18 37,18\n",
        "176,99\t12,32\t0,0 12,0 0,32 12,32\n",
        "28,130\t18,12\t0,0 18,0 0,12 18,12\"\"\""
      ],
      "execution_count": 3,
      "outputs": []
    },
    {
      "cell_type": "code",
      "metadata": {
        "id": "gy23pc4jlnb6"
      },
      "source": [
        "hard2 = \"\"\"134,105\t33,19\t0,0 33,0 0,19 33,19\n",
        "171,60\t13,42\t0,0 13,0 0,42 13,42\n",
        "118,70\t55,44\t0,0 55,0 0,44 55,44\n",
        "26,113\t32,42\t0,0 32,0 0,21 32,21 0,42 32,42\n",
        "161,44\t20,12\t0,0 10,0 20,0 0,4 10,4 20,4 0,8 10,8 20,8 0,12 10,12 20,12\n",
        "42,49\t16,39\t0,0 16,0 0,13 16,13 0,26 16,26 0,39 16,39\n",
        "81,184\t51,23\t0,0 51,0 0,23 51,23\n",
        "180,168\t46,11\t0,0 23,0 46,0 0,11 23,11 46,11\n",
        "164,199\t17,18\t0,0 17,0 0,18 17,18\n",
        "163,39\t27,29\t0,0 27,0 0,29 27,29\n",
        "58,11\t29,28\t0,0 29,0 0,28 29,28\n",
        "106,190\t36,49\t0,0 36,0 0,49 36,49\n",
        "197,118\t18,28\t0,0 18,0 0,28 18,28\n",
        "92,115\t20,27\t0,0 20,0 0,27 20,27\n",
        "134,100\t14,10\t0,0 14,0 0,10 14,10\n",
        "54,186\t38,12\t0,0 38,0 0,12 38,12\n",
        "201,41\t10,46\t0,0 10,0 0,23 10,23 0,46 10,46\n",
        "12,92\t22,23\t0,0 22,0 0,23 22,23\n",
        "88,155\t12,27\t0,0 4,0 8,0 12,0 0,27 4,27 8,27 12,27\n",
        "175,158\t27,25\t0,0 27,0 0,25 27,25\n",
        "199,133\t20,32\t0,0 20,0 0,32 20,32\n",
        "91,186\t23,13\t0,0 23,0 0,13 23,13\n",
        "135,75\t21,28\t0,0 21,0 0,28 21,28\"\"\""
      ],
      "execution_count": 4,
      "outputs": []
    },
    {
      "cell_type": "code",
      "metadata": {
        "id": "aTsswVRAlsJg"
      },
      "source": [
        "hard3 = \"\"\"65,144\t19,46\t0,0 19,0 0,46 19,46\n",
        "64,104\t16,14\t0,0 16,0 0,14 16,14\n",
        "78,8\t48,29\t0,0 16,0 32,0 48,0 0,29 16,29 32,29 48,29\n",
        "125,167\t15,10\t0,0 15,0 0,10 15,10\n",
        "198,27\t39,15\t0,0 39,0 0,5 39,5 0,10 39,10 0,15 39,15\n",
        "91,136\t56,32\t0,0 56,0 0,16 56,16 0,32 56,32\n",
        "40,72\t26,26\t0,0 26,0 0,26 26,26\n",
        "198,75\t11,34\t0,0 11,0 0,34 11,34\n",
        "132,193\t46,10\t0,0 46,0 0,10 46,10\n",
        "66,187\t26,30\t0,0 26,0 0,30 26,30\n",
        "60,122\t33,10\t0,0 11,0 22,0 33,0 0,10 11,10 22,10 33,10\n",
        "178,92\t31,28\t0,0 31,0 0,28 31,28\n",
        "94,171\t10,17\t0,0 5,0 10,0 0,17 5,17 10,17\n",
        "148,145\t14,39\t0,0 14,0 0,39 14,39\n",
        "58,59\t23,22\t0,0 23,0 0,22 23,22\n",
        "15,29\t12,38\t0,0 4,0 8,0 12,0 0,38 4,38 8,38 12,38\n",
        "131,26\t12,31\t0,0 12,0 0,31 12,31\n",
        "171,184\t19,18\t0,0 19,0 0,9 19,9 0,18 19,18\n",
        "111,57\t21,11\t0,0 21,0 0,11 21,11\n",
        "47,10\t18,19\t0,0 9,0 18,0 0,19 9,19 18,19\n",
        "168,61\t12,21\t0,0 12,0 0,21 12,21\n",
        "90,106\t24,20\t0,0 24,0 0,20 24,20\n",
        "26,127\t22,44\t0,0 11,0 22,0 0,44 11,44 22,44\n",
        "125,59\t14,19\t0,0 7,0 14,0 0,19 7,19 14,19\n",
        "127,98\t48,17\t0,0 16,0 32,0 48,0 0,17 16,17 32,17 48,17\n",
        "195,155\t23,28\t0,0 23,0 0,28 23,28\n",
        "99,91\t20,26\t0,0 20,0 0,26 20,26\n",
        "64,202\t35,11\t0,0 35,0 0,11 35,11\"\"\""
      ],
      "execution_count": 5,
      "outputs": []
    },
    {
      "cell_type": "code",
      "metadata": {
        "id": "_JJA-EollxB3"
      },
      "source": [
        "hard4 = \"\"\"58,167\t41,14\t0,0 41,0 0,14 41,14\n",
        "20,126\t15,38\t0,0 15,0 0,38 15,38\n",
        "120,101\t48,12\t0,0 16,0 32,0 48,0 0,4 16,4 32,4 48,4 0,8 16,8 32,8 48,8 0,12 16,12 32,12 48,12\n",
        "155,51\t14,19\t0,0 14,0 0,19 14,19\n",
        "184,111\t19,14\t0,0 19,0 0,14 19,14\n",
        "153,170\t50,33\t0,0 25,0 50,0 0,33 25,33 50,33\n",
        "38,114\t29,29\t0,0 29,0 0,29 29,29\n",
        "37,21\t17,48\t0,0 17,0 0,24 17,24 0,48 17,48\n",
        "64,109\t45,17\t0,0 45,0 0,17 45,17\n",
        "99,182\t28,26\t0,0 28,0 0,26 28,26\n",
        "164,71\t36,34\t0,0 18,0 36,0 0,17 18,17 36,17 0,34 18,34 36,34\n",
        "76,38\t24,19\t0,0 8,0 16,0 24,0 0,19 8,19 16,19 24,19\n",
        "88,20\t23,46\t0,0 23,0 0,46 23,46\n",
        "132,67\t23,28\t0,0 23,0 0,28 23,28\n",
        "190,151\t13,48\t0,0 13,0 0,16 13,16 0,32 13,32 0,48 13,48\n",
        "101,169\t39,25\t0,0 39,0 0,25 39,25\n",
        "189,33\t15,14\t0,0 3,0 6,0 9,0 12,0 15,0 0,14 3,14 6,14 9,14 12,14 15,14\n",
        "51,191\t32,15\t0,0 32,0 0,5 32,5 0,10 32,10 0,15 32,15\n",
        "189,166\t31,18\t0,0 31,0 0,18 31,18\n",
        "147,128\t21,11\t0,0 7,0 14,0 21,0 0,11 7,11 14,11 21,11\n",
        "142,81\t15,14\t0,0 3,0 6,0 9,0 12,0 15,0 0,7 3,7 6,7 9,7 12,7 15,7 0,14 3,14 6,14 9,14 12,14 15,14\n",
        "44,75\t11,12\t0,0 11,0 0,12 11,12\n",
        "72,88\t21,47\t0,0 21,0 0,47 21,47\n",
        "76,65\t12,11\t0,0 12,0 0,11 12,11\n",
        "108,83\t13,15\t0,0 13,0 0,5 13,5 0,10 13,10 0,15 13,15\n",
        "53,59\t13,33\t0,0 13,0 0,33 13,33\n",
        "88,185\t12,11\t0,0 12,0 0,11 12,11\n",
        "121,28\t12,10\t0,0 12,0 0,5 12,5 0,10 12,10\n",
        "144,21\t30,13\t0,0 15,0 30,0 0,13 15,13 30,13\"\"\""
      ],
      "execution_count": 6,
      "outputs": []
    },
    {
      "cell_type": "code",
      "metadata": {
        "id": "GcAlfNTAl1tu"
      },
      "source": [
        "hard5 = \"\"\"97,148\t59,25\t0,0 59,0 0,25 59,25\n",
        "49,75\t36,46\t0,0 36,0 0,46 36,46\n",
        "61,15\t24,20\t0,0 24,0 0,10 24,10 0,20 24,20\n",
        "141,166\t10,31\t0,0 5,0 10,0 0,31 5,31 10,31\n",
        "137,34\t42,42\t0,0 42,0 0,21 42,21 0,42 42,42\n",
        "121,92\t36,21\t0,0 36,0 0,21 36,21\n",
        "172,117\t21,19\t0,0 21,0 0,19 21,19\n",
        "137,122\t54,30\t0,0 54,0 0,15 54,15 0,30 54,30\n",
        "99,161\t19,22\t0,0 19,0 0,22 19,22\n",
        "87,20\t24,25\t0,0 8,0 16,0 24,0 0,25 8,25 16,25 24,25\n",
        "134,161\t49,18\t0,0 49,0 0,18 49,18\n",
        "84,187\t38,13\t0,0 19,0 38,0 0,13 19,13 38,13\n",
        "76,141\t57,18\t0,0 57,0 0,18 57,18\n",
        "111,15\t15,45\t0,0 5,0 10,0 15,0 0,45 5,45 10,45 15,45\n",
        "189,162\t30,19\t0,0 10,0 20,0 30,0 0,19 10,19 20,19 30,19\n",
        "181,6\t28,26\t0,0 14,0 28,0 0,26 14,26 28,26\n",
        "20,147\t24,17\t0,0 8,0 16,0 24,0 0,17 8,17 16,17 24,17\n",
        "57,53\t31,15\t0,0 31,0 0,15 31,15\n",
        "203,138\t15,20\t0,0 15,0 0,20 15,20\n",
        "39,179\t14,25\t0,0 14,0 0,25 14,25\n",
        "185,65\t16,42\t0,0 16,0 0,42 16,42\n",
        "71,97\t12,47\t0,0 12,0 0,47 12,47\"\"\""
      ],
      "execution_count": 7,
      "outputs": []
    },
    {
      "cell_type": "code",
      "metadata": {
        "id": "YwPtZtrLl5dw"
      },
      "source": [
        "hard6 = \"\"\"75,63\t52,38\t0,0 13,0 26,0 39,0 52,0 0,38 13,38 26,38 39,38 52,38\n",
        "123,106\t52,27\t0,0 52,0 0,27 52,27\n",
        "192,66\t42,25\t0,0 42,0 0,25 42,25\n",
        "46,30\t47,24\t0,0 47,0 0,8 47,8 0,16 47,16 0,24 47,24\n",
        "96,34\t14,17\t0,0 14,0 0,17 14,17\n",
        "15,177\t30,33\t0,0 15,0 30,0 0,33 15,33 30,33\n",
        "61,68\t56,27\t0,0 56,0 0,27 56,27\n",
        "115,33\t50,19\t0,0 50,0 0,19 50,19\n",
        "62,176\t37,22\t0,0 37,0 0,22 37,22\n",
        "103,189\t33,46\t0,0 33,0 0,46 33,46\n",
        "31,98\t25,41\t0,0 25,0 0,41 25,41\n",
        "179,25\t17,17\t0,0 17,0 0,17 17,17\n",
        "167,180\t27,26\t0,0 27,0 0,26 27,26\n",
        "130,28\t35,20\t0,0 35,0 0,20 35,20\n",
        "104,120\t47,11\t0,0 47,0 0,11 47,11\n",
        "188,165\t10,17\t0,0 10,0 0,17 10,17\n",
        "27,47\t15,42\t0,0 15,0 0,42 15,42\n",
        "186,186\t27,11\t0,0 9,0 18,0 27,0 0,11 9,11 18,11 27,11\n",
        "53,141\t12,10\t0,0 12,0 0,2 12,2 0,4 12,4 0,6 12,6 0,8 12,8 0,10 12,10\n",
        "126,26\t15,15\t0,0 15,0 0,15 15,15\"\"\""
      ],
      "execution_count": 8,
      "outputs": []
    },
    {
      "cell_type": "markdown",
      "metadata": {
        "id": "w4i3IX8kmnwn"
      },
      "source": [
        "# Зависимости"
      ]
    },
    {
      "cell_type": "code",
      "metadata": {
        "colab": {
          "base_uri": "https://localhost:8080/"
        },
        "id": "4HAX8BF0mqMQ",
        "outputId": "02f3ea38-1942-4d66-c533-0a548e9a8f28"
      },
      "source": [
        "!pip install matplotlib python-sat\n",
        "\n",
        "import re\n",
        "from pysat.solvers import Solver\n",
        "from matplotlib import patches\n",
        "from matplotlib import pyplot as plt\n",
        "from itertools import chain"
      ],
      "execution_count": 9,
      "outputs": [
        {
          "output_type": "stream",
          "text": [
            "Requirement already satisfied: matplotlib in /usr/local/lib/python3.7/dist-packages (3.2.2)\n",
            "Requirement already satisfied: python-sat in /usr/local/lib/python3.7/dist-packages (0.1.7.dev2)\n",
            "Requirement already satisfied: cycler>=0.10 in /usr/local/lib/python3.7/dist-packages (from matplotlib) (0.10.0)\n",
            "Requirement already satisfied: kiwisolver>=1.0.1 in /usr/local/lib/python3.7/dist-packages (from matplotlib) (1.3.1)\n",
            "Requirement already satisfied: pyparsing!=2.0.4,!=2.1.2,!=2.1.6,>=2.0.1 in /usr/local/lib/python3.7/dist-packages (from matplotlib) (2.4.7)\n",
            "Requirement already satisfied: python-dateutil>=2.1 in /usr/local/lib/python3.7/dist-packages (from matplotlib) (2.8.1)\n",
            "Requirement already satisfied: numpy>=1.11 in /usr/local/lib/python3.7/dist-packages (from matplotlib) (1.19.5)\n",
            "Requirement already satisfied: six in /usr/local/lib/python3.7/dist-packages (from python-sat) (1.15.0)\n"
          ],
          "name": "stdout"
        }
      ]
    },
    {
      "cell_type": "markdown",
      "metadata": {
        "id": "82BiDuM7ny95"
      },
      "source": [
        "# Константы построения"
      ]
    },
    {
      "cell_type": "code",
      "metadata": {
        "id": "5N2YFPR_n3Sg"
      },
      "source": [
        "FRAME_WIDTH = 500\n",
        "FRAME_HEIGHT = 500"
      ],
      "execution_count": 10,
      "outputs": []
    },
    {
      "cell_type": "markdown",
      "metadata": {
        "id": "a97Lnmu8m_O4"
      },
      "source": [
        "# Чтение данных"
      ]
    },
    {
      "cell_type": "code",
      "metadata": {
        "id": "iDzPgRbTnEgY"
      },
      "source": [
        "def parseData(data):\n",
        "  points = []\n",
        "  uid = 1 # Необходимо для солвера, причем начинаться должно с 1\n",
        "  for line in data.strip().split('\\n'):\n",
        "    coords, rect_sizes, offsets = re.split(r\"\\s+\", line, maxsplit=2)\n",
        "    x, y = parseTwoDimensions(coords)\n",
        "    point = {(x, y): []}\n",
        "    width, height = parseTwoDimensions(rect_sizes)\n",
        "\n",
        "    for offset_x, offset_y in (parseTwoDimensions(offset) for offset in offsets.split(\" \")):\n",
        "      rect_x = x - offset_x\n",
        "      rect_y = y - offset_y\n",
        "\n",
        "      if rect_x < 0 or rect_y < 0:\n",
        "        continue\n",
        "      if rect_x + width > FRAME_WIDTH or rect_y + height > FRAME_HEIGHT:\n",
        "        continue\n",
        "\n",
        "      rect = (rect_x, rect_y, width, height, uid)\n",
        "      point[(x, y)].append(rect)\n",
        "      uid += 1\n",
        "    points.append(point)\n",
        "  return points"
      ],
      "execution_count": 11,
      "outputs": []
    },
    {
      "cell_type": "code",
      "metadata": {
        "id": "zFgy5wbdprD8"
      },
      "source": [
        "def parseTwoDimensions(two_dimensions):\n",
        "  x, y = tuple(map(int, two_dimensions.split(\",\")))\n",
        "  return (x, y)"
      ],
      "execution_count": 12,
      "outputs": []
    },
    {
      "cell_type": "markdown",
      "metadata": {
        "id": "09PGSybmqWh1"
      },
      "source": [
        "# Реализация"
      ]
    },
    {
      "cell_type": "code",
      "metadata": {
        "id": "hq-fKpcOqYtu"
      },
      "source": [
        "def is_intersect(rect1, rect2):\n",
        "        left_rect, right_rect = (rect1, rect2) if rect1[0] < rect2[0] else (rect2, rect1)\n",
        "        up_rect, down_rect = (rect1, rect2) if rect1[1] < rect2[1] else (rect2, rect1)\n",
        "\n",
        "        if (left_rect[0] <= right_rect[0] <= left_rect[0] + left_rect[2] and up_rect[1] <= down_rect[1] <= up_rect[1] + up_rect[3]):\n",
        "            return True\n",
        "        return False"
      ],
      "execution_count": 13,
      "outputs": []
    },
    {
      "cell_type": "code",
      "metadata": {
        "id": "4cjCjO85qeST"
      },
      "source": [
        "def get_conflicts(rects):\n",
        "  conflicts = {}\n",
        "  for rect1 in rects:\n",
        "    for rect2 in rects:\n",
        "      if rect1[4] == rect2[4]:\n",
        "        continue\n",
        "\n",
        "      if is_intersect(rect1, rect2):\n",
        "        if rect1[4] not in conflicts:\n",
        "          conflicts[rect1[4]] = set()\n",
        "        conflicts[rect1[4]].add(rect2[4])\n",
        "  return conflicts"
      ],
      "execution_count": 14,
      "outputs": []
    },
    {
      "cell_type": "code",
      "metadata": {
        "id": "oHtfjfa1qfoA"
      },
      "source": [
        "def rectLayer(points):\n",
        "  rects = flatten([list(point.values()) for point in points])\n",
        "  rectsDict = {rect[4]: rect for rect in rects}\n",
        "  conflicts = get_conflicts(rects)\n",
        "  with Solver(name=\"mc\") as solver:\n",
        "    for point in points:\n",
        "      rects_uids = [rect[4] for rect in next(iter(point.values()))]\n",
        "      solver.add_atmost(rects_uids, 1)\n",
        "      solver.add_clause(rects_uids)\n",
        "    for rect in rects:\n",
        "      if rect[4] in conflicts:\n",
        "        for confId in conflicts[rect[4]]:\n",
        "          solver.add_clause([-rect[4], -confId])\n",
        "    if solver.solve():\n",
        "      ids = solver.get_model()\n",
        "      return [rectsDict[idx] for idx in ids if idx > 0]\n",
        "    else:\n",
        "      print(\"Can't find the solution!!!\")\n",
        "      raise"
      ],
      "execution_count": 15,
      "outputs": []
    },
    {
      "cell_type": "code",
      "metadata": {
        "id": "rbCgRvRV0ec9"
      },
      "source": [
        "def flatten(multi_dimension_list, times = 2):\n",
        "  flatten_list = multi_dimension_list\n",
        "  for i in range(times):\n",
        "    flatten_list = list(chain.from_iterable(flatten_list))\n",
        "  return flatten_list"
      ],
      "execution_count": 16,
      "outputs": []
    },
    {
      "cell_type": "markdown",
      "metadata": {
        "id": "6ONLcPGsql7U"
      },
      "source": [
        "# Отрисовка"
      ]
    },
    {
      "cell_type": "code",
      "metadata": {
        "id": "33xnbdULqpv3"
      },
      "source": [
        "def draw_labels(rects, points, label):\n",
        "    fig, ax = plt.subplots(figsize=(14, 9))\n",
        "    scatter_x = [p[0] for p in points]\n",
        "    scatter_y = [p[1] for p in points]\n",
        "    ax.set_title(label)\n",
        "    ax.scatter(scatter_x, scatter_y, color='red')\n",
        "    patch_rects = [patches.Rectangle(xy=(rect[0], rect[1]), width=rect[2], height=rect[3], alpha=0.7) for i, rect in enumerate(rects)]\n",
        "    for patch_rect in patch_rects:\n",
        "        ax.add_patch(patch_rect)\n",
        "    plt.show()"
      ],
      "execution_count": 17,
      "outputs": []
    },
    {
      "cell_type": "markdown",
      "metadata": {
        "id": "aqGZ8rda3t_O"
      },
      "source": [
        "# Тестовые графики"
      ]
    },
    {
      "cell_type": "code",
      "metadata": {
        "colab": {
          "base_uri": "https://localhost:8080/",
          "height": 553
        },
        "id": "khoN7mzKxbey",
        "outputId": "49af1770-a308-4376-c5c0-ee8136b645d9"
      },
      "source": [
        "points = parseData(bricks)\n",
        "result_rects = rectLayer(points)\n",
        "draw_labels(result_rects, [next(iter(point.keys())) for point in points], \"bricks\")"
      ],
      "execution_count": 18,
      "outputs": [
        {
          "output_type": "display_data",
          "data": {
            "image/png": "[encoded data removed]",
            "text/plain": [
              "<Figure size 1008x648 with 1 Axes>"
            ]
          },
          "metadata": {
            "tags": [],
            "needs_background": "light"
          }
        }
      ]
    },
    {
      "cell_type": "code",
      "metadata": {
        "colab": {
          "base_uri": "https://localhost:8080/",
          "height": 553
        },
        "id": "AsH4Uk90xl96",
        "outputId": "fc2d6b39-106e-4f79-d558-2b501364a837"
      },
      "source": [
        "points = parseData(frame)\n",
        "result_rects = rectLayer(points)\n",
        "draw_labels(result_rects, [next(iter(point.keys())) for point in points], \"frame\")"
      ],
      "execution_count": 19,
      "outputs": [
        {
          "output_type": "display_data",
          "data": {
            "image/png": "[encoded data removed]",
            "text/plain": [
              "<Figure size 1008x648 with 1 Axes>"
            ]
          },
          "metadata": {
            "tags": [],
            "needs_background": "light"
          }
        }
      ]
    },
    {
      "cell_type": "code",
      "metadata": {
        "colab": {
          "base_uri": "https://localhost:8080/",
          "height": 553
        },
        "id": "mJGJsVmt32Mo",
        "outputId": "588e1209-8b14-420e-8307-04890b16d916"
      },
      "source": [
        "points = parseData(hard1)\n",
        "result_rects = rectLayer(points)\n",
        "draw_labels(result_rects, [next(iter(point.keys())) for point in points], \"hard1\")"
      ],
      "execution_count": 20,
      "outputs": [
        {
          "output_type": "display_data",
          "data": {
            "image/png": "[encoded data removed]",
            "text/plain": [
              "<Figure size 1008x648 with 1 Axes>"
            ]
          },
          "metadata": {
            "tags": [],
            "needs_background": "light"
          }
        }
      ]
    },
    {
      "cell_type": "code",
      "metadata": {
        "colab": {
          "base_uri": "https://localhost:8080/",
          "height": 553
        },
        "id": "f9QzAkQr33oH",
        "outputId": "a3f0e59b-7981-4cc2-d195-2746c15dc023"
      },
      "source": [
        "points = parseData(hard2)\n",
        "result_rects = rectLayer(points)\n",
        "draw_labels(result_rects, [next(iter(point.keys())) for point in points], \"hard2\")"
      ],
      "execution_count": 21,
      "outputs": [
        {
          "output_type": "display_data",
          "data": {
            "image/png": "[encoded data removed]",
            "text/plain": [
              "<Figure size 1008x648 with 1 Axes>"
            ]
          },
          "metadata": {
            "tags": [],
            "needs_background": "light"
          }
        }
      ]
    },
    {
      "cell_type": "code",
      "metadata": {
        "colab": {
          "base_uri": "https://localhost:8080/",
          "height": 553
        },
        "id": "ZdKdcLjW35ob",
        "outputId": "c5be08e6-ecb6-45e4-9383-36951c8d9328"
      },
      "source": [
        "points = parseData(hard3)\n",
        "result_rects = rectLayer(points)\n",
        "draw_labels(result_rects, [next(iter(point.keys())) for point in points], \"hard3\")"
      ],
      "execution_count": 22,
      "outputs": [
        {
          "output_type": "display_data",
          "data": {
            "image/png": "[encoded data removed]",
            "text/plain": [
              "<Figure size 1008x648 with 1 Axes>"
            ]
          },
          "metadata": {
            "tags": [],
            "needs_background": "light"
          }
        }
      ]
    },
    {
      "cell_type": "code",
      "metadata": {
        "colab": {
          "base_uri": "https://localhost:8080/",
          "height": 553
        },
        "id": "Hf9Q2N5K37DN",
        "outputId": "3036b829-1380-4af0-cb6d-e0996c6fcc15"
      },
      "source": [
        "points = parseData(hard4)\n",
        "result_rects = rectLayer(points)\n",
        "draw_labels(result_rects, [next(iter(point.keys())) for point in points], \"hard4\")"
      ],
      "execution_count": 23,
      "outputs": [
        {
          "output_type": "display_data",
          "data": {
            "image/png": "[encoded data removed]",
            "text/plain": [
              "<Figure size 1008x648 with 1 Axes>"
            ]
          },
          "metadata": {
            "tags": [],
            "needs_background": "light"
          }
        }
      ]
    },
    {
      "cell_type": "code",
      "metadata": {
        "colab": {
          "base_uri": "https://localhost:8080/",
          "height": 553
        },
        "id": "GA5ShmcP3840",
        "outputId": "8f473f27-875a-4e91-81e0-3738f2cf20c8"
      },
      "source": [
        "points = parseData(hard5)\n",
        "result_rects = rectLayer(points)\n",
        "draw_labels(result_rects, [next(iter(point.keys())) for point in points], \"hard5\")"
      ],
      "execution_count": 24,
      "outputs": [
        {
          "output_type": "display_data",
          "data": {
            "image/png": "[encoded data removed]",
            "text/plain": [
              "<Figure size 1008x648 with 1 Axes>"
            ]
          },
          "metadata": {
            "tags": [],
            "needs_background": "light"
          }
        }
      ]
    },
    {
      "cell_type": "code",
      "metadata": {
        "colab": {
          "base_uri": "https://localhost:8080/",
          "height": 553
        },
        "id": "gsSrBv_Q3-QI",
        "outputId": "5073b67f-bb2f-437f-afc7-3aa1e043f2ed"
      },
      "source": [
        "points = parseData(hard6)\n",
        "result_rects = rectLayer(points)\n",
        "draw_labels(result_rects, [next(iter(point.keys())) for point in points], \"hard6\")"
      ],
      "execution_count": 25,
      "outputs": [
        {
          "output_type": "display_data",
          "data": {
            "image/png": "[encoded data removed]",
            "text/plain": [
              "<Figure size 1008x648 with 1 Axes>"
            ]
          },
          "metadata": {
            "tags": [],
            "needs_background": "light"
          }
        }
      ]
    },
    {
      "cell_type": "code",
      "metadata": {
        "id": "0h9f-LOV4Bel"
      },
      "source": [
        ""
      ],
      "execution_count": 25,
      "outputs": []
    }
  ]
}